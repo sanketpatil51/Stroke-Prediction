{
 "cells": [
  {
   "cell_type": "code",
   "execution_count": 100,
   "id": "8683e0bb-fb6e-405c-97f4-85d631266026",
   "metadata": {},
   "outputs": [],
   "source": [
    "import numpy as np\n",
    "import pandas as pd\n",
    "import matplotlib.pyplot as plt\n",
    "import seaborn as sns\n",
    "from scipy import stats"
   ]
  },
  {
   "cell_type": "code",
   "execution_count": 102,
   "id": "2b30d0ee-24fa-47e4-a9f8-df92f5beae14",
   "metadata": {},
   "outputs": [],
   "source": [
    "df=pd.read_csv(r\"C:\\Users\\sanket patil\\Downloads\\stroke-data.csv\")"
   ]
  },
  {
   "cell_type": "code",
   "execution_count": 104,
   "id": "3df8587c-f7bc-482a-b81d-5232d5dbca3e",
   "metadata": {},
   "outputs": [
    {
     "data": {
      "text/html": [
       "<div>\n",
       "<style scoped>\n",
       "    .dataframe tbody tr th:only-of-type {\n",
       "        vertical-align: middle;\n",
       "    }\n",
       "\n",
       "    .dataframe tbody tr th {\n",
       "        vertical-align: top;\n",
       "    }\n",
       "\n",
       "    .dataframe thead th {\n",
       "        text-align: right;\n",
       "    }\n",
       "</style>\n",
       "<table border=\"1\" class=\"dataframe\">\n",
       "  <thead>\n",
       "    <tr style=\"text-align: right;\">\n",
       "      <th></th>\n",
       "      <th>id</th>\n",
       "      <th>gender</th>\n",
       "      <th>age</th>\n",
       "      <th>hypertension</th>\n",
       "      <th>heart_disease</th>\n",
       "      <th>ever_married</th>\n",
       "      <th>work_type</th>\n",
       "      <th>Residence_type</th>\n",
       "      <th>avg_glucose_level</th>\n",
       "      <th>bmi</th>\n",
       "      <th>smoking_status</th>\n",
       "      <th>stroke</th>\n",
       "    </tr>\n",
       "  </thead>\n",
       "  <tbody>\n",
       "    <tr>\n",
       "      <th>0</th>\n",
       "      <td>9046</td>\n",
       "      <td>Male</td>\n",
       "      <td>67.0</td>\n",
       "      <td>0</td>\n",
       "      <td>1</td>\n",
       "      <td>Yes</td>\n",
       "      <td>Private</td>\n",
       "      <td>Urban</td>\n",
       "      <td>228.69</td>\n",
       "      <td>36.6</td>\n",
       "      <td>formerly smoked</td>\n",
       "      <td>1</td>\n",
       "    </tr>\n",
       "    <tr>\n",
       "      <th>1</th>\n",
       "      <td>51676</td>\n",
       "      <td>Female</td>\n",
       "      <td>61.0</td>\n",
       "      <td>0</td>\n",
       "      <td>0</td>\n",
       "      <td>Yes</td>\n",
       "      <td>Self-employed</td>\n",
       "      <td>Rural</td>\n",
       "      <td>202.21</td>\n",
       "      <td>NaN</td>\n",
       "      <td>never smoked</td>\n",
       "      <td>1</td>\n",
       "    </tr>\n",
       "    <tr>\n",
       "      <th>2</th>\n",
       "      <td>31112</td>\n",
       "      <td>Male</td>\n",
       "      <td>80.0</td>\n",
       "      <td>0</td>\n",
       "      <td>1</td>\n",
       "      <td>Yes</td>\n",
       "      <td>Private</td>\n",
       "      <td>Rural</td>\n",
       "      <td>105.92</td>\n",
       "      <td>32.5</td>\n",
       "      <td>never smoked</td>\n",
       "      <td>1</td>\n",
       "    </tr>\n",
       "    <tr>\n",
       "      <th>3</th>\n",
       "      <td>60182</td>\n",
       "      <td>Female</td>\n",
       "      <td>49.0</td>\n",
       "      <td>0</td>\n",
       "      <td>0</td>\n",
       "      <td>Yes</td>\n",
       "      <td>Private</td>\n",
       "      <td>Urban</td>\n",
       "      <td>171.23</td>\n",
       "      <td>34.4</td>\n",
       "      <td>smokes</td>\n",
       "      <td>1</td>\n",
       "    </tr>\n",
       "    <tr>\n",
       "      <th>4</th>\n",
       "      <td>1665</td>\n",
       "      <td>Female</td>\n",
       "      <td>79.0</td>\n",
       "      <td>1</td>\n",
       "      <td>0</td>\n",
       "      <td>Yes</td>\n",
       "      <td>Self-employed</td>\n",
       "      <td>Rural</td>\n",
       "      <td>174.12</td>\n",
       "      <td>24.0</td>\n",
       "      <td>never smoked</td>\n",
       "      <td>1</td>\n",
       "    </tr>\n",
       "  </tbody>\n",
       "</table>\n",
       "</div>"
      ],
      "text/plain": [
       "      id  gender   age  hypertension  heart_disease ever_married  \\\n",
       "0   9046    Male  67.0             0              1          Yes   \n",
       "1  51676  Female  61.0             0              0          Yes   \n",
       "2  31112    Male  80.0             0              1          Yes   \n",
       "3  60182  Female  49.0             0              0          Yes   \n",
       "4   1665  Female  79.0             1              0          Yes   \n",
       "\n",
       "       work_type Residence_type  avg_glucose_level   bmi   smoking_status  \\\n",
       "0        Private          Urban             228.69  36.6  formerly smoked   \n",
       "1  Self-employed          Rural             202.21   NaN     never smoked   \n",
       "2        Private          Rural             105.92  32.5     never smoked   \n",
       "3        Private          Urban             171.23  34.4           smokes   \n",
       "4  Self-employed          Rural             174.12  24.0     never smoked   \n",
       "\n",
       "   stroke  \n",
       "0       1  \n",
       "1       1  \n",
       "2       1  \n",
       "3       1  \n",
       "4       1  "
      ]
     },
     "execution_count": 104,
     "metadata": {},
     "output_type": "execute_result"
    }
   ],
   "source": [
    "df.head()"
   ]
  },
  {
   "cell_type": "markdown",
   "id": "af6db8ab-8b97-4d70-b308-5eb2cc1fe4fc",
   "metadata": {},
   "source": [
    "# EDA"
   ]
  },
  {
   "cell_type": "code",
   "execution_count": 107,
   "id": "205d5e02-e095-4e25-a21a-8bf01e7dcaff",
   "metadata": {},
   "outputs": [],
   "source": [
    "df=df.drop(\"id\",axis=1)"
   ]
  },
  {
   "cell_type": "code",
   "execution_count": 109,
   "id": "86f385c0-02de-45ba-88ae-5ee9e482b3ba",
   "metadata": {},
   "outputs": [
    {
     "data": {
      "text/plain": [
       "stroke\n",
       "0    4861\n",
       "1     249\n",
       "Name: count, dtype: int64"
      ]
     },
     "execution_count": 109,
     "metadata": {},
     "output_type": "execute_result"
    }
   ],
   "source": [
    "df[\"stroke\"].value_counts()"
   ]
  },
  {
   "cell_type": "code",
   "execution_count": 111,
   "id": "f10c4950-8bdc-49aa-9fd1-08777d659388",
   "metadata": {},
   "outputs": [
    {
     "data": {
      "text/plain": [
       "work_type\n",
       "Private          2925\n",
       "Self-employed     819\n",
       "children          687\n",
       "Govt_job          657\n",
       "Never_worked       22\n",
       "Name: count, dtype: int64"
      ]
     },
     "execution_count": 111,
     "metadata": {},
     "output_type": "execute_result"
    }
   ],
   "source": [
    "df.work_type.value_counts()"
   ]
  },
  {
   "cell_type": "code",
   "execution_count": 113,
   "id": "79cc85f0-d144-406d-9ffb-e8f18eee01a8",
   "metadata": {},
   "outputs": [
    {
     "data": {
      "text/plain": [
       "Residence_type\n",
       "Urban    2596\n",
       "Rural    2514\n",
       "Name: count, dtype: int64"
      ]
     },
     "execution_count": 113,
     "metadata": {},
     "output_type": "execute_result"
    }
   ],
   "source": [
    "df.Residence_type.value_counts()"
   ]
  },
  {
   "cell_type": "code",
   "execution_count": 115,
   "id": "3c606da1-5f34-4505-a002-360ff6bf3fea",
   "metadata": {},
   "outputs": [
    {
     "data": {
      "text/plain": [
       "smoking_status\n",
       "never smoked       1892\n",
       "Unknown            1544\n",
       "formerly smoked     885\n",
       "smokes              789\n",
       "Name: count, dtype: int64"
      ]
     },
     "execution_count": 115,
     "metadata": {},
     "output_type": "execute_result"
    }
   ],
   "source": [
    "df.smoking_status.value_counts()"
   ]
  },
  {
   "cell_type": "code",
   "execution_count": 117,
   "id": "4aa3dd44-66ca-42fe-a66b-2934ab951ba8",
   "metadata": {},
   "outputs": [
    {
     "data": {
      "text/html": [
       "<div>\n",
       "<style scoped>\n",
       "    .dataframe tbody tr th:only-of-type {\n",
       "        vertical-align: middle;\n",
       "    }\n",
       "\n",
       "    .dataframe tbody tr th {\n",
       "        vertical-align: top;\n",
       "    }\n",
       "\n",
       "    .dataframe thead th {\n",
       "        text-align: right;\n",
       "    }\n",
       "</style>\n",
       "<table border=\"1\" class=\"dataframe\">\n",
       "  <thead>\n",
       "    <tr style=\"text-align: right;\">\n",
       "      <th></th>\n",
       "      <th>age</th>\n",
       "      <th>hypertension</th>\n",
       "      <th>heart_disease</th>\n",
       "      <th>avg_glucose_level</th>\n",
       "      <th>bmi</th>\n",
       "      <th>stroke</th>\n",
       "    </tr>\n",
       "  </thead>\n",
       "  <tbody>\n",
       "    <tr>\n",
       "      <th>count</th>\n",
       "      <td>5110.000000</td>\n",
       "      <td>5110.000000</td>\n",
       "      <td>5110.000000</td>\n",
       "      <td>5110.000000</td>\n",
       "      <td>4909.000000</td>\n",
       "      <td>5110.000000</td>\n",
       "    </tr>\n",
       "    <tr>\n",
       "      <th>mean</th>\n",
       "      <td>43.226614</td>\n",
       "      <td>0.097456</td>\n",
       "      <td>0.054012</td>\n",
       "      <td>106.147677</td>\n",
       "      <td>28.893237</td>\n",
       "      <td>0.048728</td>\n",
       "    </tr>\n",
       "    <tr>\n",
       "      <th>std</th>\n",
       "      <td>22.612647</td>\n",
       "      <td>0.296607</td>\n",
       "      <td>0.226063</td>\n",
       "      <td>45.283560</td>\n",
       "      <td>7.854067</td>\n",
       "      <td>0.215320</td>\n",
       "    </tr>\n",
       "    <tr>\n",
       "      <th>min</th>\n",
       "      <td>0.080000</td>\n",
       "      <td>0.000000</td>\n",
       "      <td>0.000000</td>\n",
       "      <td>55.120000</td>\n",
       "      <td>10.300000</td>\n",
       "      <td>0.000000</td>\n",
       "    </tr>\n",
       "    <tr>\n",
       "      <th>25%</th>\n",
       "      <td>25.000000</td>\n",
       "      <td>0.000000</td>\n",
       "      <td>0.000000</td>\n",
       "      <td>77.245000</td>\n",
       "      <td>23.500000</td>\n",
       "      <td>0.000000</td>\n",
       "    </tr>\n",
       "    <tr>\n",
       "      <th>50%</th>\n",
       "      <td>45.000000</td>\n",
       "      <td>0.000000</td>\n",
       "      <td>0.000000</td>\n",
       "      <td>91.885000</td>\n",
       "      <td>28.100000</td>\n",
       "      <td>0.000000</td>\n",
       "    </tr>\n",
       "    <tr>\n",
       "      <th>75%</th>\n",
       "      <td>61.000000</td>\n",
       "      <td>0.000000</td>\n",
       "      <td>0.000000</td>\n",
       "      <td>114.090000</td>\n",
       "      <td>33.100000</td>\n",
       "      <td>0.000000</td>\n",
       "    </tr>\n",
       "    <tr>\n",
       "      <th>max</th>\n",
       "      <td>82.000000</td>\n",
       "      <td>1.000000</td>\n",
       "      <td>1.000000</td>\n",
       "      <td>271.740000</td>\n",
       "      <td>97.600000</td>\n",
       "      <td>1.000000</td>\n",
       "    </tr>\n",
       "  </tbody>\n",
       "</table>\n",
       "</div>"
      ],
      "text/plain": [
       "               age  hypertension  heart_disease  avg_glucose_level  \\\n",
       "count  5110.000000   5110.000000    5110.000000        5110.000000   \n",
       "mean     43.226614      0.097456       0.054012         106.147677   \n",
       "std      22.612647      0.296607       0.226063          45.283560   \n",
       "min       0.080000      0.000000       0.000000          55.120000   \n",
       "25%      25.000000      0.000000       0.000000          77.245000   \n",
       "50%      45.000000      0.000000       0.000000          91.885000   \n",
       "75%      61.000000      0.000000       0.000000         114.090000   \n",
       "max      82.000000      1.000000       1.000000         271.740000   \n",
       "\n",
       "               bmi       stroke  \n",
       "count  4909.000000  5110.000000  \n",
       "mean     28.893237     0.048728  \n",
       "std       7.854067     0.215320  \n",
       "min      10.300000     0.000000  \n",
       "25%      23.500000     0.000000  \n",
       "50%      28.100000     0.000000  \n",
       "75%      33.100000     0.000000  \n",
       "max      97.600000     1.000000  "
      ]
     },
     "execution_count": 117,
     "metadata": {},
     "output_type": "execute_result"
    }
   ],
   "source": [
    "df.describe()"
   ]
  },
  {
   "cell_type": "code",
   "execution_count": 119,
   "id": "9724247b-6ed0-4768-9c79-32c54bc041fc",
   "metadata": {},
   "outputs": [
    {
     "data": {
      "text/plain": [
       "gender                 0\n",
       "age                    0\n",
       "hypertension           0\n",
       "heart_disease          0\n",
       "ever_married           0\n",
       "work_type              0\n",
       "Residence_type         0\n",
       "avg_glucose_level      0\n",
       "bmi                  201\n",
       "smoking_status         0\n",
       "stroke                 0\n",
       "dtype: int64"
      ]
     },
     "execution_count": 119,
     "metadata": {},
     "output_type": "execute_result"
    }
   ],
   "source": [
    "df.isna().sum()"
   ]
  },
  {
   "cell_type": "code",
   "execution_count": 121,
   "id": "96530054-7e72-47c9-8c37-33234fa57c51",
   "metadata": {},
   "outputs": [
    {
     "data": {
      "text/plain": [
       "<seaborn.axisgrid.FacetGrid at 0x1baf4286780>"
      ]
     },
     "execution_count": 121,
     "metadata": {},
     "output_type": "execute_result"
    },
    {
     "data": {
      "image/png": "[encoded data removed]",
      "text/plain": [
       "<Figure size 500x500 with 1 Axes>"
      ]
     },
     "metadata": {},
     "output_type": "display_data"
    }
   ],
   "source": [
    "sns.displot(df[\"bmi\"],kind=\"kde\")"
   ]
  },
  {
   "cell_type": "code",
   "execution_count": null,
   "id": "2bd0cc01-e537-4f9c-958c-b6fbb683a94d",
   "metadata": {},
   "outputs": [],
   "source": []
  },
  {
   "cell_type": "code",
   "execution_count": 124,
   "id": "dfeb7f03-5e8b-44db-aef8-3a039b1602ea",
   "metadata": {},
   "outputs": [
    {
     "data": {
      "text/plain": [
       "gender\n",
       "Female    2994\n",
       "Male      2115\n",
       "Other        1\n",
       "Name: stroke, dtype: int64"
      ]
     },
     "execution_count": 124,
     "metadata": {},
     "output_type": "execute_result"
    }
   ],
   "source": [
    "df.groupby(\"gender\")[\"stroke\"].count()"
   ]
  },
  {
   "cell_type": "markdown",
   "id": "75066d18-01b9-4d62-a30c-2f3ef65eb9e8",
   "metadata": {},
   "source": [
    "# Missing value filling"
   ]
  },
  {
   "cell_type": "code",
   "execution_count": 127,
   "id": "c017bddd-f81d-4746-b8f9-b5a0df5b0db0",
   "metadata": {},
   "outputs": [],
   "source": [
    "median=df['bmi'].median()"
   ]
  },
  {
   "cell_type": "code",
   "execution_count": 129,
   "id": "1a153690-dfc4-4fdd-a36a-544b2fa75b23",
   "metadata": {},
   "outputs": [],
   "source": [
    "def input_nan (df,varible,median):\n",
    "    df[varible+\"_median\"]=df[varible].fillna(median)\n",
    "    df[varible+\"_random\"]=df[varible]\n",
    "    random_sample=df[\"bmi\"].dropna().sample(df[\"bmi\"].isna().sum(),random_state=0)\n",
    "    random_sample.index=df[df[varible].isna()].index\n",
    "    df.loc[df[varible].isna(),varible+\"_random\"]=random_sample\n",
    "   \n",
    "\n"
   ]
  },
  {
   "cell_type": "code",
   "execution_count": 131,
   "id": "64cfe8fd-727c-48fe-8b5f-5867974cb4ae",
   "metadata": {},
   "outputs": [],
   "source": [
    "input_nan(df,\"bmi\",median)"
   ]
  },
  {
   "cell_type": "code",
   "execution_count": 133,
   "id": "87e0e615-caaf-4e3d-96d2-5aab4daddaba",
   "metadata": {},
   "outputs": [
    {
     "data": {
      "text/plain": [
       "<matplotlib.legend.Legend at 0x1baf9245ee0>"
      ]
     },
     "execution_count": 133,
     "metadata": {},
     "output_type": "execute_result"
    },
    {
     "data": {
      "image/png": "[encoded data removed]",
      "text/plain": [
       "<Figure size 640x480 with 1 Axes>"
      ]
     },
     "metadata": {},
     "output_type": "display_data"
    }
   ],
   "source": [
    "fig = plt.figure()\n",
    "ax = fig.add_subplot(111)\n",
    "df['bmi'].plot(kind='kde', ax=ax,color=\"blue\")\n",
    "df.bmi_median.plot(kind='kde', ax=ax, color='red')\n",
    "df.bmi_random.plot(kind='kde', ax=ax, color='green')\n",
    "lines, labels = ax.get_legend_handles_labels()\n",
    "ax.legend(lines, labels, loc='best')"
   ]
  },
  {
   "cell_type": "markdown",
   "id": "6034e195-ed56-4335-8967-84ba7644dd99",
   "metadata": {},
   "source": [
    "# Outelier detection and tretment"
   ]
  },
  {
   "cell_type": "code",
   "execution_count": 136,
   "id": "2c42da9a-a780-4594-95a6-df6193c3ea89",
   "metadata": {},
   "outputs": [
    {
     "data": {
      "text/plain": [
       "<Axes: ylabel='age'>"
      ]
     },
     "execution_count": 136,
     "metadata": {},
     "output_type": "execute_result"
    },
    {
     "data": {
      "image/png": "[encoded data removed]",
      "text/plain": [
       "<Figure size 640x480 with 1 Axes>"
      ]
     },
     "metadata": {},
     "output_type": "display_data"
    }
   ],
   "source": [
    "sns.boxplot(df[\"age\"])"
   ]
  },
  {
   "cell_type": "code",
   "execution_count": 138,
   "id": "1ecec876-7cd2-4ed6-abbf-5af04c698516",
   "metadata": {},
   "outputs": [
    {
     "data": {
      "text/plain": [
       "<seaborn.axisgrid.FacetGrid at 0x1baf9264140>"
      ]
     },
     "execution_count": 138,
     "metadata": {},
     "output_type": "execute_result"
    },
    {
     "data": {
      "image/png": "[encoded data removed]",
      "text/plain": [
       "<Figure size 500x500 with 1 Axes>"
      ]
     },
     "metadata": {},
     "output_type": "display_data"
    }
   ],
   "source": [
    "sns.displot(df[\"age\"],kind=\"kde\")"
   ]
  },
  {
   "cell_type": "code",
   "execution_count": 140,
   "id": "b5e61613-335e-46bf-9bf1-0c8e4e2890f6",
   "metadata": {},
   "outputs": [
    {
     "data": {
      "text/plain": [
       "<Axes: ylabel='avg_glucose_level'>"
      ]
     },
     "execution_count": 140,
     "metadata": {},
     "output_type": "execute_result"
    },
    {
     "data": {
      "image/png": "[encoded data removed]",
      "text/plain": [
       "<Figure size 640x480 with 1 Axes>"
      ]
     },
     "metadata": {},
     "output_type": "display_data"
    }
   ],
   "source": [
    "sns.boxplot(df['avg_glucose_level'])"
   ]
  },
  {
   "cell_type": "code",
   "execution_count": 142,
   "id": "a4633691-765c-432d-bf17-be76dc0a25fc",
   "metadata": {},
   "outputs": [
    {
     "data": {
      "image/png": "[encoded data removed]",
      "text/plain": [
       "<Figure size 1400x600 with 2 Axes>"
      ]
     },
     "metadata": {},
     "output_type": "display_data"
    }
   ],
   "source": [
    "\n",
    "import seaborn as sns\n",
    "import matplotlib.pyplot as plt\n",
    "from sklearn.preprocessing import QuantileTransformer\n",
    "\n",
    "# Assuming df is your DataFrame and contains the column 'avg_glucose_level'\n",
    "\n",
    "# Quantile transformation on 'avg_glucose_level'\n",
    "qt = QuantileTransformer(output_distribution='normal')\n",
    "df['avg_glucose_level_normal'] = qt.fit_transform(df[['avg_glucose_level']])\n",
    "\n",
    "# Create subplots\n",
    "fig, axes = plt.subplots(1, 2, figsize=(14, 6))\n",
    "\n",
    "# Original distribution with KDE\n",
    "sns.kdeplot(df[\"avg_glucose_level\"], ax=axes[0])\n",
    "axes[0].set_title(\"Original avg_glucose_level Distribution\")\n",
    "\n",
    "# Transformed distribution\n",
    "sns.kdeplot(df[\"avg_glucose_level_normal\"], ax=axes[1])\n",
    "axes[1].set_title(\"Normalized avg_glucose_level Distribution\")\n",
    "\n",
    "# Display the plots\n",
    "plt.tight_layout()\n",
    "plt.show()\n"
   ]
  },
  {
   "cell_type": "code",
   "execution_count": 144,
   "id": "1c2de5ce-796d-467e-abe8-d31f71e45ee7",
   "metadata": {},
   "outputs": [
    {
     "data": {
      "text/plain": [
       "<Axes: ylabel='bmi'>"
      ]
     },
     "execution_count": 144,
     "metadata": {},
     "output_type": "execute_result"
    },
    {
     "data": {
      "image/png": "[encoded data removed]",
      "text/plain": [
       "<Figure size 640x480 with 1 Axes>"
      ]
     },
     "metadata": {},
     "output_type": "display_data"
    }
   ],
   "source": [
    "sns.boxplot(df['bmi'])"
   ]
  },
  {
   "cell_type": "code",
   "execution_count": 146,
   "id": "fd2b7c3e-525e-4c20-b06e-6d5276f48525",
   "metadata": {},
   "outputs": [],
   "source": [
    "from scipy.stats.mstats import winsorize\n",
    "df['bmi_winsorized'] = winsorize(df['bmi_random'], limits=[0.05, 0.05])\n"
   ]
  },
  {
   "cell_type": "code",
   "execution_count": 148,
   "id": "59ba06da-286e-4dbb-9080-2e36ffe35cba",
   "metadata": {},
   "outputs": [
    {
     "data": {
      "text/plain": [
       "<Axes: ylabel='bmi_winsorized'>"
      ]
     },
     "execution_count": 148,
     "metadata": {},
     "output_type": "execute_result"
    },
    {
     "data": {
      "image/png": "[encoded data removed]",
      "text/plain": [
       "<Figure size 640x480 with 1 Axes>"
      ]
     },
     "metadata": {},
     "output_type": "display_data"
    }
   ],
   "source": [
    "sns.boxplot(df['bmi_winsorized'])"
   ]
  },
  {
   "cell_type": "code",
   "execution_count": 150,
   "id": "88acc5c9-5887-49f4-b4c9-6f8cb7163e48",
   "metadata": {},
   "outputs": [
    {
     "name": "stderr",
     "output_type": "stream",
     "text": [
      "C:\\Users\\sanket patil\\AppData\\Local\\Temp\\ipykernel_10884\\1228038990.py:1: FutureWarning: \n",
      "\n",
      "Passing `palette` without assigning `hue` is deprecated and will be removed in v0.14.0. Assign the `x` variable to `hue` and set `legend=False` for the same effect.\n",
      "\n",
      "  sns.countplot(data=df, x='stroke', palette='viridis')\n"
     ]
    },
    {
     "data": {
      "text/plain": [
       "<Axes: xlabel='stroke', ylabel='count'>"
      ]
     },
     "execution_count": 150,
     "metadata": {},
     "output_type": "execute_result"
    },
    {
     "data": {
      "image/png": "[encoded data removed]",
      "text/plain": [
       "<Figure size 640x480 with 1 Axes>"
      ]
     },
     "metadata": {},
     "output_type": "display_data"
    }
   ],
   "source": [
    "sns.countplot(data=df, x='stroke', palette='viridis')"
   ]
  },
  {
   "cell_type": "markdown",
   "id": "d8cb8019-b05c-4b3a-8810-723c5cf9fa64",
   "metadata": {},
   "source": [
    "## Onehot encoding"
   ]
  },
  {
   "cell_type": "code",
   "execution_count": 153,
   "id": "08da617c-2836-4381-a3a9-98cefa58adbe",
   "metadata": {},
   "outputs": [],
   "source": [
    "# Create dummy variables for 'gender', 'work_type', and 'smoking_status' with drop_first=True\n",
    "df = pd.get_dummies(df, columns=['gender', 'work_type', 'smoking_status'], drop_first=True)\n",
    "\n",
    "# Convert all dummy columns to integer format\n",
    "df = df.astype({col: 'int' for col in df.columns if col.startswith(('gender_', 'work_type_', 'smoking_status_'))})\n",
    "\n",
    "\n"
   ]
  },
  {
   "cell_type": "code",
   "execution_count": 155,
   "id": "32b0aa82-75dd-4475-a227-90b4b4153cfb",
   "metadata": {},
   "outputs": [],
   "source": [
    "# Create dummy variables for 'gender', 'work_type', and 'smoking_status' with drop_first=True\n",
    "df = pd.get_dummies(df, columns=['ever_married','Residence_type'], drop_first=True)\n",
    "\n",
    "# Convert all dummy columns to integer format\n",
    "df = df.astype({col: 'int' for col in df.columns if col.startswith(('ever_married','Residence_type'))})\n"
   ]
  },
  {
   "cell_type": "code",
   "execution_count": 157,
   "id": "45c2d52e-822c-468a-b468-2c3a45cde747",
   "metadata": {},
   "outputs": [],
   "source": [
    "df.drop([\"avg_glucose_level\",\"bmi\",\"bmi_median\",\"avg_glucose_level_normal\",\"bmi_random\"],axis=1,inplace=True)"
   ]
  },
  {
   "cell_type": "code",
   "execution_count": 159,
   "id": "e7fdb4c6-b193-4d73-839f-7a8efd64843d",
   "metadata": {},
   "outputs": [
    {
     "data": {
      "text/html": [
       "<div>\n",
       "<style scoped>\n",
       "    .dataframe tbody tr th:only-of-type {\n",
       "        vertical-align: middle;\n",
       "    }\n",
       "\n",
       "    .dataframe tbody tr th {\n",
       "        vertical-align: top;\n",
       "    }\n",
       "\n",
       "    .dataframe thead th {\n",
       "        text-align: right;\n",
       "    }\n",
       "</style>\n",
       "<table border=\"1\" class=\"dataframe\">\n",
       "  <thead>\n",
       "    <tr style=\"text-align: right;\">\n",
       "      <th></th>\n",
       "      <th>age</th>\n",
       "      <th>hypertension</th>\n",
       "      <th>heart_disease</th>\n",
       "      <th>stroke</th>\n",
       "      <th>bmi_winsorized</th>\n",
       "      <th>gender_Male</th>\n",
       "      <th>gender_Other</th>\n",
       "      <th>work_type_Never_worked</th>\n",
       "      <th>work_type_Private</th>\n",
       "      <th>work_type_Self-employed</th>\n",
       "      <th>work_type_children</th>\n",
       "      <th>smoking_status_formerly smoked</th>\n",
       "      <th>smoking_status_never smoked</th>\n",
       "      <th>smoking_status_smokes</th>\n",
       "      <th>ever_married_Yes</th>\n",
       "      <th>Residence_type_Urban</th>\n",
       "    </tr>\n",
       "  </thead>\n",
       "  <tbody>\n",
       "    <tr>\n",
       "      <th>0</th>\n",
       "      <td>67.0</td>\n",
       "      <td>0</td>\n",
       "      <td>1</td>\n",
       "      <td>1</td>\n",
       "      <td>36.6</td>\n",
       "      <td>1</td>\n",
       "      <td>0</td>\n",
       "      <td>0</td>\n",
       "      <td>1</td>\n",
       "      <td>0</td>\n",
       "      <td>0</td>\n",
       "      <td>1</td>\n",
       "      <td>0</td>\n",
       "      <td>0</td>\n",
       "      <td>1</td>\n",
       "      <td>1</td>\n",
       "    </tr>\n",
       "    <tr>\n",
       "      <th>1</th>\n",
       "      <td>61.0</td>\n",
       "      <td>0</td>\n",
       "      <td>0</td>\n",
       "      <td>1</td>\n",
       "      <td>27.3</td>\n",
       "      <td>0</td>\n",
       "      <td>0</td>\n",
       "      <td>0</td>\n",
       "      <td>0</td>\n",
       "      <td>1</td>\n",
       "      <td>0</td>\n",
       "      <td>0</td>\n",
       "      <td>1</td>\n",
       "      <td>0</td>\n",
       "      <td>1</td>\n",
       "      <td>0</td>\n",
       "    </tr>\n",
       "    <tr>\n",
       "      <th>2</th>\n",
       "      <td>80.0</td>\n",
       "      <td>0</td>\n",
       "      <td>1</td>\n",
       "      <td>1</td>\n",
       "      <td>32.5</td>\n",
       "      <td>1</td>\n",
       "      <td>0</td>\n",
       "      <td>0</td>\n",
       "      <td>1</td>\n",
       "      <td>0</td>\n",
       "      <td>0</td>\n",
       "      <td>0</td>\n",
       "      <td>1</td>\n",
       "      <td>0</td>\n",
       "      <td>1</td>\n",
       "      <td>0</td>\n",
       "    </tr>\n",
       "    <tr>\n",
       "      <th>3</th>\n",
       "      <td>49.0</td>\n",
       "      <td>0</td>\n",
       "      <td>0</td>\n",
       "      <td>1</td>\n",
       "      <td>34.4</td>\n",
       "      <td>0</td>\n",
       "      <td>0</td>\n",
       "      <td>0</td>\n",
       "      <td>1</td>\n",
       "      <td>0</td>\n",
       "      <td>0</td>\n",
       "      <td>0</td>\n",
       "      <td>0</td>\n",
       "      <td>1</td>\n",
       "      <td>1</td>\n",
       "      <td>1</td>\n",
       "    </tr>\n",
       "    <tr>\n",
       "      <th>4</th>\n",
       "      <td>79.0</td>\n",
       "      <td>1</td>\n",
       "      <td>0</td>\n",
       "      <td>1</td>\n",
       "      <td>24.0</td>\n",
       "      <td>0</td>\n",
       "      <td>0</td>\n",
       "      <td>0</td>\n",
       "      <td>0</td>\n",
       "      <td>1</td>\n",
       "      <td>0</td>\n",
       "      <td>0</td>\n",
       "      <td>1</td>\n",
       "      <td>0</td>\n",
       "      <td>1</td>\n",
       "      <td>0</td>\n",
       "    </tr>\n",
       "    <tr>\n",
       "      <th>...</th>\n",
       "      <td>...</td>\n",
       "      <td>...</td>\n",
       "      <td>...</td>\n",
       "      <td>...</td>\n",
       "      <td>...</td>\n",
       "      <td>...</td>\n",
       "      <td>...</td>\n",
       "      <td>...</td>\n",
       "      <td>...</td>\n",
       "      <td>...</td>\n",
       "      <td>...</td>\n",
       "      <td>...</td>\n",
       "      <td>...</td>\n",
       "      <td>...</td>\n",
       "      <td>...</td>\n",
       "      <td>...</td>\n",
       "    </tr>\n",
       "    <tr>\n",
       "      <th>5105</th>\n",
       "      <td>80.0</td>\n",
       "      <td>1</td>\n",
       "      <td>0</td>\n",
       "      <td>0</td>\n",
       "      <td>31.3</td>\n",
       "      <td>0</td>\n",
       "      <td>0</td>\n",
       "      <td>0</td>\n",
       "      <td>1</td>\n",
       "      <td>0</td>\n",
       "      <td>0</td>\n",
       "      <td>0</td>\n",
       "      <td>1</td>\n",
       "      <td>0</td>\n",
       "      <td>1</td>\n",
       "      <td>1</td>\n",
       "    </tr>\n",
       "    <tr>\n",
       "      <th>5106</th>\n",
       "      <td>81.0</td>\n",
       "      <td>0</td>\n",
       "      <td>0</td>\n",
       "      <td>0</td>\n",
       "      <td>40.0</td>\n",
       "      <td>0</td>\n",
       "      <td>0</td>\n",
       "      <td>0</td>\n",
       "      <td>0</td>\n",
       "      <td>1</td>\n",
       "      <td>0</td>\n",
       "      <td>0</td>\n",
       "      <td>1</td>\n",
       "      <td>0</td>\n",
       "      <td>1</td>\n",
       "      <td>1</td>\n",
       "    </tr>\n",
       "    <tr>\n",
       "      <th>5107</th>\n",
       "      <td>35.0</td>\n",
       "      <td>0</td>\n",
       "      <td>0</td>\n",
       "      <td>0</td>\n",
       "      <td>30.6</td>\n",
       "      <td>0</td>\n",
       "      <td>0</td>\n",
       "      <td>0</td>\n",
       "      <td>0</td>\n",
       "      <td>1</td>\n",
       "      <td>0</td>\n",
       "      <td>0</td>\n",
       "      <td>1</td>\n",
       "      <td>0</td>\n",
       "      <td>1</td>\n",
       "      <td>0</td>\n",
       "    </tr>\n",
       "    <tr>\n",
       "      <th>5108</th>\n",
       "      <td>51.0</td>\n",
       "      <td>0</td>\n",
       "      <td>0</td>\n",
       "      <td>0</td>\n",
       "      <td>25.6</td>\n",
       "      <td>1</td>\n",
       "      <td>0</td>\n",
       "      <td>0</td>\n",
       "      <td>1</td>\n",
       "      <td>0</td>\n",
       "      <td>0</td>\n",
       "      <td>1</td>\n",
       "      <td>0</td>\n",
       "      <td>0</td>\n",
       "      <td>1</td>\n",
       "      <td>0</td>\n",
       "    </tr>\n",
       "    <tr>\n",
       "      <th>5109</th>\n",
       "      <td>44.0</td>\n",
       "      <td>0</td>\n",
       "      <td>0</td>\n",
       "      <td>0</td>\n",
       "      <td>26.2</td>\n",
       "      <td>0</td>\n",
       "      <td>0</td>\n",
       "      <td>0</td>\n",
       "      <td>0</td>\n",
       "      <td>0</td>\n",
       "      <td>0</td>\n",
       "      <td>0</td>\n",
       "      <td>0</td>\n",
       "      <td>0</td>\n",
       "      <td>1</td>\n",
       "      <td>1</td>\n",
       "    </tr>\n",
       "  </tbody>\n",
       "</table>\n",
       "<p>5110 rows × 16 columns</p>\n",
       "</div>"
      ],
      "text/plain": [
       "       age  hypertension  heart_disease  stroke  bmi_winsorized  gender_Male  \\\n",
       "0     67.0             0              1       1            36.6            1   \n",
       "1     61.0             0              0       1            27.3            0   \n",
       "2     80.0             0              1       1            32.5            1   \n",
       "3     49.0             0              0       1            34.4            0   \n",
       "4     79.0             1              0       1            24.0            0   \n",
       "...    ...           ...            ...     ...             ...          ...   \n",
       "5105  80.0             1              0       0            31.3            0   \n",
       "5106  81.0             0              0       0            40.0            0   \n",
       "5107  35.0             0              0       0            30.6            0   \n",
       "5108  51.0             0              0       0            25.6            1   \n",
       "5109  44.0             0              0       0            26.2            0   \n",
       "\n",
       "      gender_Other  work_type_Never_worked  work_type_Private  \\\n",
       "0                0                       0                  1   \n",
       "1                0                       0                  0   \n",
       "2                0                       0                  1   \n",
       "3                0                       0                  1   \n",
       "4                0                       0                  0   \n",
       "...            ...                     ...                ...   \n",
       "5105             0                       0                  1   \n",
       "5106             0                       0                  0   \n",
       "5107             0                       0                  0   \n",
       "5108             0                       0                  1   \n",
       "5109             0                       0                  0   \n",
       "\n",
       "      work_type_Self-employed  work_type_children  \\\n",
       "0                           0                   0   \n",
       "1                           1                   0   \n",
       "2                           0                   0   \n",
       "3                           0                   0   \n",
       "4                           1                   0   \n",
       "...                       ...                 ...   \n",
       "5105                        0                   0   \n",
       "5106                        1                   0   \n",
       "5107                        1                   0   \n",
       "5108                        0                   0   \n",
       "5109                        0                   0   \n",
       "\n",
       "      smoking_status_formerly smoked  smoking_status_never smoked  \\\n",
       "0                                  1                            0   \n",
       "1                                  0                            1   \n",
       "2                                  0                            1   \n",
       "3                                  0                            0   \n",
       "4                                  0                            1   \n",
       "...                              ...                          ...   \n",
       "5105                               0                            1   \n",
       "5106                               0                            1   \n",
       "5107                               0                            1   \n",
       "5108                               1                            0   \n",
       "5109                               0                            0   \n",
       "\n",
       "      smoking_status_smokes  ever_married_Yes  Residence_type_Urban  \n",
       "0                         0                 1                     1  \n",
       "1                         0                 1                     0  \n",
       "2                         0                 1                     0  \n",
       "3                         1                 1                     1  \n",
       "4                         0                 1                     0  \n",
       "...                     ...               ...                   ...  \n",
       "5105                      0                 1                     1  \n",
       "5106                      0                 1                     1  \n",
       "5107                      0                 1                     0  \n",
       "5108                      0                 1                     0  \n",
       "5109                      0                 1                     1  \n",
       "\n",
       "[5110 rows x 16 columns]"
      ]
     },
     "execution_count": 159,
     "metadata": {},
     "output_type": "execute_result"
    }
   ],
   "source": [
    "df"
   ]
  },
  {
   "cell_type": "code",
   "execution_count": 84,
   "id": "9045e53b-da07-4f3b-aaaa-f2cf3f1393aa",
   "metadata": {},
   "outputs": [],
   "source": []
  },
  {
   "cell_type": "markdown",
   "id": "5d1ac1ef-6a9f-411f-b260-0d1dbec56076",
   "metadata": {},
   "source": [
    "# Modelfitting"
   ]
  },
  {
   "cell_type": "code",
   "execution_count": 84,
   "id": "6da0e5e4-9077-49cd-a5a7-96dc80f41af4",
   "metadata": {},
   "outputs": [],
   "source": [
    "from sklearn.ensemble import RandomForestClassifier\n",
    "from sklearn.model_selection import train_test_split\n",
    "from sklearn.metrics import accuracy_score, classification_report,confusion_matrix\n",
    "from sklearn.model_selection import GridSearchCV, RandomizedSearchCV"
   ]
  },
  {
   "cell_type": "code",
   "execution_count": 143,
   "id": "037f27fa-f560-4dae-8ff3-397a2a78d0f3",
   "metadata": {},
   "outputs": [],
   "source": [
    "from imblearn.combine import SMOTETomek\n",
    "from sklearn.ensemble import RandomForestClassifier\n",
    "from sklearn.model_selection import train_test_split\n",
    "from sklearn.metrics import accuracy_score, classification_report, confusion_matrix\n"
   ]
  },
  {
   "cell_type": "markdown",
   "id": "b31cfebf-a252-42b5-b870-ed1155439328",
   "metadata": {},
   "source": [
    "## RandomForest"
   ]
  },
  {
   "cell_type": "code",
   "execution_count": 195,
   "id": "f5d606d4-a863-4b5a-997a-0b89f7c854f7",
   "metadata": {},
   "outputs": [
    {
     "name": "stderr",
     "output_type": "stream",
     "text": [
      "C:\\Users\\sanket patil\\anaconda3\\Lib\\site-packages\\sklearn\\model_selection\\_validation.py:547: FitFailedWarning: \n",
      "111 fits failed out of a total of 300.\n",
      "The score on these train-test partitions for these parameters will be set to nan.\n",
      "If these failures are not expected, you can try to debug them by setting error_score='raise'.\n",
      "\n",
      "Below are more details about the failures:\n",
      "--------------------------------------------------------------------------------\n",
      "38 fits failed with the following error:\n",
      "Traceback (most recent call last):\n",
      "  File \"C:\\Users\\sanket patil\\anaconda3\\Lib\\site-packages\\sklearn\\model_selection\\_validation.py\", line 895, in _fit_and_score\n",
      "    estimator.fit(X_train, y_train, **fit_params)\n",
      "  File \"C:\\Users\\sanket patil\\anaconda3\\Lib\\site-packages\\sklearn\\base.py\", line 1467, in wrapper\n",
      "    estimator._validate_params()\n",
      "  File \"C:\\Users\\sanket patil\\anaconda3\\Lib\\site-packages\\sklearn\\base.py\", line 666, in _validate_params\n",
      "    validate_parameter_constraints(\n",
      "  File \"C:\\Users\\sanket patil\\anaconda3\\Lib\\site-packages\\sklearn\\utils\\_param_validation.py\", line 95, in validate_parameter_constraints\n",
      "    raise InvalidParameterError(\n",
      "sklearn.utils._param_validation.InvalidParameterError: The 'max_features' parameter of RandomForestClassifier must be an int in the range [1, inf), a float in the range (0.0, 1.0], a str among {'log2', 'sqrt'} or None. Got 'auto' instead.\n",
      "\n",
      "--------------------------------------------------------------------------------\n",
      "73 fits failed with the following error:\n",
      "Traceback (most recent call last):\n",
      "  File \"C:\\Users\\sanket patil\\anaconda3\\Lib\\site-packages\\sklearn\\model_selection\\_validation.py\", line 895, in _fit_and_score\n",
      "    estimator.fit(X_train, y_train, **fit_params)\n",
      "  File \"C:\\Users\\sanket patil\\anaconda3\\Lib\\site-packages\\sklearn\\base.py\", line 1467, in wrapper\n",
      "    estimator._validate_params()\n",
      "  File \"C:\\Users\\sanket patil\\anaconda3\\Lib\\site-packages\\sklearn\\base.py\", line 666, in _validate_params\n",
      "    validate_parameter_constraints(\n",
      "  File \"C:\\Users\\sanket patil\\anaconda3\\Lib\\site-packages\\sklearn\\utils\\_param_validation.py\", line 95, in validate_parameter_constraints\n",
      "    raise InvalidParameterError(\n",
      "sklearn.utils._param_validation.InvalidParameterError: The 'max_features' parameter of RandomForestClassifier must be an int in the range [1, inf), a float in the range (0.0, 1.0], a str among {'sqrt', 'log2'} or None. Got 'auto' instead.\n",
      "\n",
      "  warnings.warn(some_fits_failed_message, FitFailedWarning)\n",
      "C:\\Users\\sanket patil\\anaconda3\\Lib\\site-packages\\sklearn\\model_selection\\_search.py:1051: UserWarning: One or more of the test scores are non-finite: [0.95562914 0.95949891        nan        nan 0.94660181 0.94840859\n",
      "        nan 0.94763699 0.9478908  0.95408156 0.95666153 0.95795132\n",
      "        nan        nan 0.95098758        nan 0.95666153 0.95898332\n",
      " 0.947891          nan        nan 0.95511315        nan 0.96233689\n",
      " 0.94608621        nan        nan 0.96182129        nan 0.95691933\n",
      " 0.96207929 0.96182129        nan 0.94557241 0.95176037 0.94711781\n",
      " 0.95434135 0.94660181 0.94660161 0.94763699        nan 0.95691933\n",
      " 0.95588674 0.94634401        nan        nan 0.94582822 0.96182129\n",
      " 0.94634401 0.95150337 0.94582822        nan        nan 0.94557241\n",
      " 0.95898232        nan        nan        nan 0.94995439        nan\n",
      " 0.94582762 0.95176137        nan 0.95072798 0.95356516 0.95898232\n",
      "        nan 0.95046978        nan        nan 0.95795132 0.9481494\n",
      " 0.94634401        nan 0.9615623  0.95588694 0.9478908  0.94582762\n",
      "        nan 0.9473754         nan 0.95382336        nan        nan\n",
      " 0.95588694        nan        nan        nan        nan 0.95021318\n",
      " 0.95150417 0.94969838 0.95588694        nan 0.947893   0.96336808\n",
      " 0.94943959 0.9481494         nan 0.95021378]\n",
      "  warnings.warn(\n"
     ]
    },
    {
     "name": "stdout",
     "output_type": "stream",
     "text": [
      "Best Hyperparameters: {'n_estimators': 200, 'min_samples_split': 2, 'min_samples_leaf': 1, 'max_features': 'log2', 'max_depth': None, 'class_weight': 'balanced'}\n",
      "Recall on Test Set: 0.95625\n"
     ]
    }
   ],
   "source": [
    "from sklearn.ensemble import RandomForestClassifier\n",
    "from sklearn.model_selection import train_test_split, RandomizedSearchCV\n",
    "from imblearn.combine import SMOTETomek\n",
    "from sklearn.metrics import recall_score\n",
    "\n",
    "# Split data into training and testing sets\n",
    "X_train, X_test, y_train, y_test = train_test_split(X, y, test_size=0.2, random_state=42)\n",
    "\n",
    "# Initialize SMOTETomek\n",
    "smote_tomek = SMOTETomek(sampling_strategy='auto', random_state=42)\n",
    "\n",
    "# Apply SMOTETomek to the training data\n",
    "X_resampled, y_resampled = smote_tomek.fit_resample(X_train, y_train)\n",
    "\n",
    "# Define the parameter grid for Random Forest\n",
    "param_distributions = {\n",
    "    'n_estimators': [50, 100, 200],\n",
    "    'max_depth': [None, 10, 20, 30],\n",
    "    'min_samples_split': [2, 5, 10],\n",
    "    'min_samples_leaf': [1, 2, 4],\n",
    "    'max_features': ['auto', 'sqrt', 'log2'],\n",
    "    'class_weight': ['balanced', None]  # Optionally adjust class weights\n",
    "}\n",
    "\n",
    "# Initialize Random Forest classifier\n",
    "rf = RandomForestClassifier(random_state=42)\n",
    "\n",
    "# Set up RandomizedSearchCV\n",
    "random_search = RandomizedSearchCV(\n",
    "    estimator=rf,\n",
    "    param_distributions=param_distributions,\n",
    "    n_iter=100,  # Number of different combinations to try\n",
    "    scoring='recall',  # Focus on maximizing recall\n",
    "    cv=3,  # 3-fold cross-validation\n",
    "    random_state=42,\n",
    "    n_jobs=-1  # Use all available cores\n",
    ")\n",
    "\n",
    "# Fit RandomizedSearchCV on the resampled data\n",
    "random_search.fit(X_resampled, y_resampled)\n",
    "\n",
    "# Best hyperparameters found\n",
    "best_params = random_search.best_params_\n",
    "print(\"Best Hyperparameters:\", best_params)\n",
    "\n",
    "# Evaluate the best model on the test set\n",
    "best_rf = random_search.best_estimator_\n",
    "y_pred = best_rf.predict(X_test)\n",
    "\n",
    "\n",
    "\n",
    "print(\"Recall on Test Set:\", recall)\n"
   ]
  },
  {
   "cell_type": "code",
   "execution_count": 197,
   "id": "d65d5119-6855-4917-855b-d1ef2fb59021",
   "metadata": {},
   "outputs": [
    {
     "name": "stdout",
     "output_type": "stream",
     "text": [
      "Accuracy: 0.9080234833659491\n",
      "Classification Report:\n",
      "               precision    recall  f1-score   support\n",
      "\n",
      "           0       0.95      0.96      0.95       960\n",
      "           1       0.19      0.16      0.18        62\n",
      "\n",
      "    accuracy                           0.91      1022\n",
      "   macro avg       0.57      0.56      0.56      1022\n",
      "weighted avg       0.90      0.91      0.90      1022\n",
      "\n",
      "Confusion Matrix:\n",
      " [[918  42]\n",
      " [ 52  10]]\n"
     ]
    }
   ],
   "source": [
    "accuracy = accuracy_score(y_test, y_pred)\n",
    "print(\"Accuracy:\", accuracy)\n",
    "print(\"Classification Report:\\n\", classification_report(y_test, y_pred))\n",
    "print(\"Confusion Matrix:\\n\", confusion_matrix(y_test, y_pred))"
   ]
  },
  {
   "cell_type": "markdown",
   "id": "f085b599-0b01-40a5-b8b4-f126d0ff9473",
   "metadata": {},
   "source": [
    "## Balanced Random forest"
   ]
  },
  {
   "cell_type": "code",
   "execution_count": 96,
   "id": "ec3ac7a9-2c47-4a61-a371-3c56367718bc",
   "metadata": {},
   "outputs": [
    {
     "name": "stderr",
     "output_type": "stream",
     "text": [
      "C:\\Users\\sanket patil\\anaconda3\\Lib\\site-packages\\sklearn\\model_selection\\_validation.py:547: FitFailedWarning: \n",
      "120 fits failed out of a total of 300.\n",
      "The score on these train-test partitions for these parameters will be set to nan.\n",
      "If these failures are not expected, you can try to debug them by setting error_score='raise'.\n",
      "\n",
      "Below are more details about the failures:\n",
      "--------------------------------------------------------------------------------\n",
      "79 fits failed with the following error:\n",
      "Traceback (most recent call last):\n",
      "  File \"C:\\Users\\sanket patil\\anaconda3\\Lib\\site-packages\\sklearn\\model_selection\\_validation.py\", line 895, in _fit_and_score\n",
      "    estimator.fit(X_train, y_train, **fit_params)\n",
      "  File \"C:\\Users\\sanket patil\\anaconda3\\Lib\\site-packages\\sklearn\\base.py\", line 1467, in wrapper\n",
      "    estimator._validate_params()\n",
      "  File \"C:\\Users\\sanket patil\\anaconda3\\Lib\\site-packages\\imblearn\\base.py\", line 42, in _validate_params\n",
      "    validate_parameter_constraints(\n",
      "  File \"C:\\Users\\sanket patil\\anaconda3\\Lib\\site-packages\\sklearn\\utils\\_param_validation.py\", line 95, in validate_parameter_constraints\n",
      "    raise InvalidParameterError(\n",
      "sklearn.utils._param_validation.InvalidParameterError: The 'max_features' parameter of BalancedRandomForestClassifier must be an int in the range [1, inf), a float in the range (0.0, 1.0], a str among {'sqrt', 'log2'} or None. Got 'auto' instead.\n",
      "\n",
      "--------------------------------------------------------------------------------\n",
      "41 fits failed with the following error:\n",
      "Traceback (most recent call last):\n",
      "  File \"C:\\Users\\sanket patil\\anaconda3\\Lib\\site-packages\\sklearn\\model_selection\\_validation.py\", line 895, in _fit_and_score\n",
      "    estimator.fit(X_train, y_train, **fit_params)\n",
      "  File \"C:\\Users\\sanket patil\\anaconda3\\Lib\\site-packages\\sklearn\\base.py\", line 1467, in wrapper\n",
      "    estimator._validate_params()\n",
      "  File \"C:\\Users\\sanket patil\\anaconda3\\Lib\\site-packages\\imblearn\\base.py\", line 42, in _validate_params\n",
      "    validate_parameter_constraints(\n",
      "  File \"C:\\Users\\sanket patil\\anaconda3\\Lib\\site-packages\\sklearn\\utils\\_param_validation.py\", line 95, in validate_parameter_constraints\n",
      "    raise InvalidParameterError(\n",
      "sklearn.utils._param_validation.InvalidParameterError: The 'max_features' parameter of BalancedRandomForestClassifier must be an int in the range [1, inf), a float in the range (0.0, 1.0], a str among {'log2', 'sqrt'} or None. Got 'auto' instead.\n",
      "\n",
      "  warnings.warn(some_fits_failed_message, FitFailedWarning)\n",
      "C:\\Users\\sanket patil\\anaconda3\\Lib\\site-packages\\sklearn\\model_selection\\_search.py:1051: UserWarning: One or more of the test scores are non-finite: [0.81814303 0.78614098 0.80756102        nan        nan 0.81839904\n",
      " 0.80756102 0.8396484         nan 0.81848438        nan        nan\n",
      " 0.81285202 0.81839904        nan 0.81310804 0.82923707 0.82906639\n",
      "        nan        nan 0.82906639 0.79160266 0.81839904        nan\n",
      "        nan 0.81839904 0.81848438 0.82360471 0.79663765 0.81839904\n",
      "        nan 0.82394607        nan        nan 0.80756102        nan\n",
      " 0.77009729 0.81848438        nan        nan        nan 0.82906639\n",
      " 0.8396484         nan 0.81839904 0.81848438        nan 0.81839904\n",
      " 0.80756102        nan 0.81839904 0.78084997        nan 0.81839904\n",
      " 0.81848438 0.81839904 0.82915173        nan        nan 0.83973374\n",
      "        nan 0.82906639 0.81848438        nan        nan 0.81839904\n",
      "        nan        nan        nan 0.83973374        nan 0.79663765\n",
      " 0.82923707 0.81848438 0.80781703 0.82360471 0.81839904        nan\n",
      " 0.81839904        nan 0.80764636 0.79160266        nan 0.82915173\n",
      " 0.81848438        nan 0.81848438 0.81310804 0.81839904        nan\n",
      " 0.81285202 0.80756102        nan 0.81310804        nan 0.79160266\n",
      "        nan 0.79663765        nan        nan]\n",
      "  warnings.warn(\n",
      "C:\\Users\\sanket patil\\anaconda3\\Lib\\site-packages\\imblearn\\ensemble\\_forest.py:577: FutureWarning: The default of `sampling_strategy` will change from `'auto'` to `'all'` in version 0.13. This change will follow the implementation proposed in the original paper. Set to `'all'` to silence this warning and adopt the future behaviour.\n",
      "  warn(\n",
      "C:\\Users\\sanket patil\\anaconda3\\Lib\\site-packages\\imblearn\\ensemble\\_forest.py:589: FutureWarning: The default of `replacement` will change from `False` to `True` in version 0.13. This change will follow the implementation proposed in the original paper. Set to `True` to silence this warning and adopt the future behaviour.\n",
      "  warn(\n",
      "C:\\Users\\sanket patil\\anaconda3\\Lib\\site-packages\\imblearn\\ensemble\\_forest.py:601: FutureWarning: The default of `bootstrap` will change from `True` to `False` in version 0.13. This change will follow the implementation proposed in the original paper. Set to `False` to silence this warning and adopt the future behaviour.\n",
      "  warn(\n"
     ]
    },
    {
     "name": "stdout",
     "output_type": "stream",
     "text": [
      "Best Hyperparameters: {'n_estimators': 200, 'min_samples_split': 2, 'min_samples_leaf': 2, 'max_features': 'sqrt', 'max_depth': 10}\n",
      "Recall on Test Set: 0.9193548387096774\n"
     ]
    }
   ],
   "source": [
    "from imblearn.ensemble import BalancedRandomForestClassifier\n",
    "from sklearn.model_selection import train_test_split, RandomizedSearchCV\n",
    "from imblearn.combine import SMOTETomek\n",
    "from sklearn.metrics import recall_score\n",
    "X = df.drop(columns=['stroke'])  # Drop 'stroke' column to get feature set\n",
    "y = df['stroke'] \n",
    "# Split data into training and testing sets\n",
    "X_train, X_test, y_train, y_test = train_test_split(X, y, test_size=0.2, random_state=42)\n",
    "\n",
    "\n",
    "\n",
    "# Define the parameter grid for Balanced Random Forest\n",
    "param_distributions = {\n",
    "    'n_estimators': [50, 100, 200],\n",
    "    'max_depth': [None, 10, 20, 30],\n",
    "    'min_samples_split': [2, 5, 10],\n",
    "    'min_samples_leaf': [1, 2, 4],\n",
    "    'max_features': ['auto', 'sqrt', 'log2']\n",
    "}\n",
    "\n",
    "# Initialize Balanced Random Forest classifier\n",
    "brf = BalancedRandomForestClassifier(random_state=42)\n",
    "\n",
    "# Set up RandomizedSearchCV\n",
    "random_search = RandomizedSearchCV(\n",
    "    estimator=brf,\n",
    "    param_distributions=param_distributions,\n",
    "    n_iter=100,  # Number of different combinations to try\n",
    "    scoring='recall',  # Focus on maximizing recall\n",
    "    cv=3,  # 3-fold cross-validation\n",
    "    random_state=42,\n",
    "    n_jobs=-1  # Use all available cores\n",
    ")\n",
    "\n",
    "# Fit RandomizedSearchCV on the resampled data\n",
    "random_search.fit(X_train, y_train)\n",
    "\n",
    "# Best hyperparameters found\n",
    "best_params = random_search.best_params_\n",
    "print(\"Best Hyperparameters:\", best_params)\n",
    "\n",
    "# Evaluate the best model on the test set\n",
    "best_brf = random_search.best_estimator_\n",
    "y_pred = best_brf.predict(X_test)\n",
    "\n",
    "# Calculate recall on the test set\n",
    "recall = recall_score(y_test, y_pred)\n",
    "print(\"Recall on Test Set:\", recall)\n"
   ]
  },
  {
   "cell_type": "code",
   "execution_count": 98,
   "id": "99264ea8-b5e8-4a35-b5b6-a06ae9d6553b",
   "metadata": {},
   "outputs": [
    {
     "name": "stdout",
     "output_type": "stream",
     "text": [
      "Accuracy: 0.6898238747553816\n",
      "Classification Report:\n",
      "               precision    recall  f1-score   support\n",
      "\n",
      "           0       0.99      0.68      0.80       960\n",
      "           1       0.15      0.92      0.26        62\n",
      "\n",
      "    accuracy                           0.69      1022\n",
      "   macro avg       0.57      0.80      0.53      1022\n",
      "weighted avg       0.94      0.69      0.77      1022\n",
      "\n",
      "Confusion Matrix:\n",
      " [[648 312]\n",
      " [  5  57]]\n"
     ]
    }
   ],
   "source": [
    "from sklearn.metrics import classification_report, confusion_matrix, accuracy_score, recall_score\n",
    "accuracy = accuracy_score(y_test, y_pred)\n",
    "print(\"Accuracy:\", accuracy)\n",
    "print(\"Classification Report:\\n\", classification_report(y_test, y_pred))\n",
    "print(\"Confusion Matrix:\\n\", confusion_matrix(y_test, y_pred))"
   ]
  },
  {
   "cell_type": "markdown",
   "id": "e3e24ff1-ad51-4a35-a39e-04b6204c7520",
   "metadata": {},
   "source": [
    "## LogisticRegression"
   ]
  },
  {
   "cell_type": "code",
   "execution_count": 96,
   "id": "59308bc1-c183-4e1a-948b-a6954737c555",
   "metadata": {},
   "outputs": [
    {
     "name": "stdout",
     "output_type": "stream",
     "text": [
      "Accuracy: 0.6868884540117417\n",
      "Recall on Test Set: 0.7258064516129032\n",
      "Confusion Matrix:\n",
      " [[657 303]\n",
      " [ 17  45]]\n",
      "Classification Report:\n",
      "               precision    recall  f1-score   support\n",
      "\n",
      "           0       0.97      0.68      0.80       960\n",
      "           1       0.13      0.73      0.22        62\n",
      "\n",
      "    accuracy                           0.69      1022\n",
      "   macro avg       0.55      0.71      0.51      1022\n",
      "weighted avg       0.92      0.69      0.77      1022\n",
      "\n"
     ]
    }
   ],
   "source": [
    "from sklearn.model_selection import train_test_split, RandomizedSearchCV\n",
    "from sklearn.linear_model import LogisticRegression\n",
    "from imblearn.over_sampling import SMOTE\n",
    "from sklearn.metrics import classification_report, confusion_matrix, accuracy_score, recall_score\n",
    "\n",
    "# Assuming df is your DataFrame and 'stroke' is the target variable\n",
    "X = df.drop('stroke', axis=1)  # Features\n",
    "y = df['stroke']  # Target variable\n",
    "\n",
    "# Split data into training and testing sets\n",
    "X_train, X_test, y_train, y_test = train_test_split(X, y, test_size=0.2, random_state=42)\n",
    "\n",
    "# Initialize SMOTE for oversampling\n",
    "smote = SMOTE(sampling_strategy='auto', random_state=42)\n",
    "\n",
    "# Apply SMOTE to the training data\n",
    "X_resampled, y_resampled = smote.fit_resample(X_train, y_train)\n",
    "\n",
    "# Initialize Logistic Regression with class weight\n",
    "lr = LogisticRegression(random_state=42, max_iter=1000,C=0.15,class_weight={0:1,1:5})\n",
    "\n",
    "# Fit the model on the resampled data\n",
    "lr.fit(X_resampled, y_resampled)\n",
    "\n",
    "# Make predictions on the test set\n",
    "y_pred_proba = lr.predict_proba(X_test)[:, 1]\n",
    "\n",
    "# Adjust threshold to improve recall\n",
    "threshold = 0.57  # Example threshold, adjust as necessary\n",
    "y_pred = (y_pred_proba >= threshold).astype(int)\n",
    "\n",
    "# Evaluate the model\n",
    "accuracy = accuracy_score(y_test, y_pred)\n",
    "recall = recall_score(y_test, y_pred, pos_label=1)  # Assuming 1 is the positive class\n",
    "conf_matrix = confusion_matrix(y_test, y_pred)\n",
    "\n",
    "# Print the evaluation results\n",
    "print(\"Accuracy:\", accuracy)\n",
    "print(\"Recall on Test Set:\", recall)\n",
    "print(\"Confusion Matrix:\\n\", conf_matrix)\n",
    "print(\"Classification Report:\\n\", classification_report(y_test, y_pred))\n"
   ]
  },
  {
   "cell_type": "markdown",
   "id": "37bf4608-eb21-446f-a46e-a8b059da1f30",
   "metadata": {},
   "source": [
    "## Threshold Deside"
   ]
  },
  {
   "cell_type": "code",
   "execution_count": 387,
   "id": "c117cbcd-576f-4289-aa62-6c814e124d85",
   "metadata": {},
   "outputs": [
    {
     "data": {
      "image/png": "[encoded data removed]",
      "text/plain": [
       "<Figure size 1200x600 with 1 Axes>"
      ]
     },
     "metadata": {},
     "output_type": "display_data"
    },
    {
     "name": "stdout",
     "output_type": "stream",
     "text": [
      "Intersections where Recall and Accuracy meet the thresholds:\n",
      "Threshold: 0.50, Recall: 0.76, Accuracy: 0.65\n",
      "Threshold: 0.51, Recall: 0.74, Accuracy: 0.66\n",
      "Threshold: 0.52, Recall: 0.74, Accuracy: 0.67\n",
      "Threshold: 0.53, Recall: 0.74, Accuracy: 0.67\n",
      "Threshold: 0.54, Recall: 0.74, Accuracy: 0.67\n",
      "Threshold: 0.55, Recall: 0.74, Accuracy: 0.68\n",
      "Threshold: 0.56, Recall: 0.74, Accuracy: 0.68\n",
      "Threshold: 0.57, Recall: 0.73, Accuracy: 0.69\n",
      "Threshold: 0.58, Recall: 0.69, Accuracy: 0.69\n",
      "Threshold: 0.59, Recall: 0.69, Accuracy: 0.70\n",
      "Threshold: 0.60, Recall: 0.66, Accuracy: 0.70\n",
      "Threshold: 0.61, Recall: 0.65, Accuracy: 0.70\n"
     ]
    }
   ],
   "source": [
    "import numpy as np\n",
    "import matplotlib.pyplot as plt\n",
    "from sklearn.metrics import accuracy_score, recall_score\n",
    "\n",
    "# Create an array of thresholds from 0.0 to 1.0\n",
    "thresholds = np.arange(0.0, 1.0, 0.01)\n",
    "recalls = []\n",
    "accuracies = []\n",
    "\n",
    "# Loop through thresholds and calculate metrics\n",
    "for threshold in thresholds:\n",
    "    y_pred = (y_pred_proba >= threshold).astype(int)\n",
    "    recall = recall_score(y_test, y_pred)\n",
    "    accuracy = accuracy_score(y_test, y_pred)\n",
    "    recalls.append(recall)\n",
    "    accuracies.append(accuracy)\n",
    "\n",
    "# Convert to numpy arrays for easy indexing\n",
    "recalls = np.array(recalls)\n",
    "accuracies = np.array(accuracies)\n",
    "\n",
    "# Plot Recall and Accuracy against the Threshold\n",
    "plt.figure(figsize=(12, 6))\n",
    "plt.plot(thresholds, recalls, label='Recall', color='orange')\n",
    "plt.plot(thresholds, accuracies, label='Accuracy', color='blue')\n",
    "plt.title('Recall and Accuracy vs. Threshold')\n",
    "plt.xlabel('Threshold')\n",
    "plt.ylabel('Score')\n",
    "plt.legend()\n",
    "plt.grid()\n",
    "plt.show()\n",
    "\n",
    "# Find intersections of Recall and Accuracy above a specific threshold\n",
    "min_recall_threshold = 0.6  # Set your minimum recall threshold\n",
    "min_accuracy_threshold = 0.65  # Set your minimum accuracy threshold\n",
    "\n",
    "# Identify the indices where both conditions are met\n",
    "intersection_indices = np.where((recalls >= min_recall_threshold) & (accuracies >= min_accuracy_threshold))[0]\n",
    "\n",
    "# Print the results\n",
    "if intersection_indices.size > 0:\n",
    "    print(\"Intersections where Recall and Accuracy meet the thresholds:\")\n",
    "    for idx in intersection_indices:\n",
    "        print(f\"Threshold: {thresholds[idx]:.2f}, Recall: {recalls[idx]:.2f}, Accuracy: {accuracies[idx]:.2f}\")\n",
    "else:\n",
    "    print(\"No intersections found where both Recall and Accuracy meet the specified thresholds.\")\n"
   ]
  },
  {
   "cell_type": "markdown",
   "id": "4db15587-26c5-464f-88cb-20077a33c9ca",
   "metadata": {},
   "source": [
    "## Naive Bayes"
   ]
  },
  {
   "cell_type": "code",
   "execution_count": 98,
   "id": "319a8cf0-0b1e-462e-9642-6ed24f8ba266",
   "metadata": {},
   "outputs": [
    {
     "name": "stdout",
     "output_type": "stream",
     "text": [
      "Accuracy: 0.33659491193737767\n",
      "Recall on Test Set: 0.967741935483871\n",
      "Confusion Matrix:\n",
      " [[284 676]\n",
      " [  2  60]]\n",
      "Classification Report:\n",
      "               precision    recall  f1-score   support\n",
      "\n",
      "           0       0.99      0.30      0.46       960\n",
      "           1       0.08      0.97      0.15        62\n",
      "\n",
      "    accuracy                           0.34      1022\n",
      "   macro avg       0.54      0.63      0.30      1022\n",
      "weighted avg       0.94      0.34      0.44      1022\n",
      "\n"
     ]
    }
   ],
   "source": [
    "import pandas as pd\n",
    "from sklearn.model_selection import train_test_split\n",
    "from sklearn.naive_bayes import GaussianNB\n",
    "from imblearn.over_sampling import SMOTE\n",
    "from sklearn.metrics import classification_report, confusion_matrix, accuracy_score, recall_score\n",
    "\n",
    "# Assuming df is your DataFrame and 'stroke' is the target variable\n",
    "X = df.drop('stroke', axis=1)  # Features\n",
    "y = df['stroke']  # Target variable\n",
    "\n",
    "# Split data into training and testing sets\n",
    "X_train, X_test, y_train, y_test = train_test_split(X, y, test_size=0.2, random_state=42)\n",
    "\n",
    "# Initialize SMOTE for oversampling\n",
    "smote = SMOTE(sampling_strategy='auto', random_state=42)\n",
    "\n",
    "# Apply SMOTE to the training data\n",
    "X_resampled, y_resampled = smote.fit_resample(X_train, y_train)\n",
    "\n",
    "# Initialize Naive Bayes Classifier\n",
    "nb = GaussianNB()\n",
    "\n",
    "# Fit the model on the resampled data\n",
    "nb.fit(X_resampled, y_resampled)\n",
    "\n",
    "# Make predictions on the test set\n",
    "y_pred = nb.predict(X_test)\n",
    "\n",
    "# Evaluate the model\n",
    "accuracy = accuracy_score(y_test, y_pred)\n",
    "recall = recall_score(y_test, y_pred, pos_label=1)  # Assuming 1 is the positive class\n",
    "conf_matrix = confusion_matrix(y_test, y_pred)\n",
    "\n",
    "# Print the evaluation results\n",
    "print(\"Accuracy:\", accuracy)\n",
    "print(\"Recall on Test Set:\", recall)\n",
    "print(\"Confusion Matrix:\\n\", conf_matrix)\n",
    "print(\"Classification Report:\\n\", classification_report(y_test, y_pred))\n"
   ]
  },
  {
   "cell_type": "markdown",
   "id": "cb4fce7c-5b02-45ca-84ad-41339c44b30b",
   "metadata": {},
   "source": [
    "## Decision Tree"
   ]
  },
  {
   "cell_type": "code",
   "execution_count": 104,
   "id": "bf303509-37d6-4b5c-9da3-d61f48d9b4b3",
   "metadata": {},
   "outputs": [
    {
     "name": "stdout",
     "output_type": "stream",
     "text": [
      "Best Parameters: {'min_samples_split': 10, 'min_samples_leaf': 1, 'max_depth': 8, 'criterion': 'gini'}\n",
      "Accuracy: 0.8551859099804305\n",
      "Recall on Test Set: 0.43548387096774194\n",
      "Confusion Matrix:\n",
      " [[847 113]\n",
      " [ 35  27]]\n",
      "Classification Report:\n",
      "               precision    recall  f1-score   support\n",
      "\n",
      "           0       0.96      0.88      0.92       960\n",
      "           1       0.19      0.44      0.27        62\n",
      "\n",
      "    accuracy                           0.86      1022\n",
      "   macro avg       0.58      0.66      0.59      1022\n",
      "weighted avg       0.91      0.86      0.88      1022\n",
      "\n"
     ]
    }
   ],
   "source": [
    "import pandas as pd\n",
    "from sklearn.model_selection import train_test_split, RandomizedSearchCV\n",
    "from sklearn.tree import DecisionTreeClassifier\n",
    "from imblearn.over_sampling import SMOTE\n",
    "from sklearn.metrics import classification_report, confusion_matrix, accuracy_score, recall_score\n",
    "import numpy as np\n",
    "\n",
    "# Assuming df is your DataFrame and 'stroke' is the target variable\n",
    "X = df.drop('stroke', axis=1)  # Features\n",
    "y = df['stroke']  # Target variable\n",
    "\n",
    "# Split data into training and testing sets\n",
    "X_train, X_test, y_train, y_test = train_test_split(X, y, test_size=0.2, random_state=42)\n",
    "\n",
    "# Initialize SMOTE for oversampling\n",
    "smote = SMOTE(sampling_strategy='auto', random_state=42)\n",
    "\n",
    "# Apply SMOTE to the training data\n",
    "X_resampled, y_resampled = smote.fit_resample(X_train, y_train)\n",
    "\n",
    "# Initialize Decision Tree Classifier\n",
    "dt = DecisionTreeClassifier(random_state=42)\n",
    "\n",
    "# Define the parameter grid for RandomizedSearchCV\n",
    "param_grid = {\n",
    "    'max_depth': [None] + list(range(5, 20)),  # Depth of the tree\n",
    "    'min_samples_split': np.arange(2, 21),     # Min samples to split an internal node\n",
    "    'min_samples_leaf': np.arange(1, 21),      # Min samples at a leaf node\n",
    "    'criterion': ['gini', 'entropy']           # Criterion for splitting\n",
    "}\n",
    "\n",
    "# Initialize RandomizedSearchCV\n",
    "random_search = RandomizedSearchCV(estimator=dt, param_distributions=param_grid,\n",
    "                                   n_iter=50, scoring='recall', cv=5, random_state=42, n_jobs=-1)\n",
    "\n",
    "# Fit RandomizedSearchCV on the resampled data\n",
    "random_search.fit(X_resampled, y_resampled)\n",
    "\n",
    "# Best parameters and model evaluation\n",
    "best_dt = random_search.best_estimator_\n",
    "print(\"Best Parameters:\", random_search.best_params_)\n",
    "\n",
    "# Make predictions on the test set using the best model\n",
    "y_pred = best_dt.predict(X_test)\n",
    "\n",
    "# Evaluate the model\n",
    "accuracy = accuracy_score(y_test, y_pred)\n",
    "recall = recall_score(y_test, y_pred, pos_label=1)  # Assuming 1 is the positive class\n",
    "conf_matrix = confusion_matrix(y_test, y_pred)\n",
    "\n",
    "# Print the evaluation results\n",
    "print(\"Accuracy:\", accuracy)\n",
    "print(\"Recall on Test Set:\", recall)\n",
    "print(\"Confusion Matrix:\\n\", conf_matrix)\n",
    "print(\"Classification Report:\\n\", classification_report(y_test, y_pred))\n"
   ]
  },
  {
   "cell_type": "code",
   "execution_count": null,
   "id": "ed7e8b4f-96b7-4474-aaba-dcbf0872911a",
   "metadata": {},
   "outputs": [],
   "source": []
  }
 ],
 "metadata": {
  "kernelspec": {
   "display_name": "Python 3 (ipykernel)",
   "language": "python",
   "name": "python3"
  },
  "language_info": {
   "codemirror_mode": {
    "name": "ipython",
    "version": 3
   },
   "file_extension": ".py",
   "mimetype": "text/x-python",
   "name": "python",
   "nbconvert_exporter": "python",
   "pygments_lexer": "ipython3",
   "version": "3.12.4"
  }
 },
 "nbformat": 4,
 "nbformat_minor": 5
}
